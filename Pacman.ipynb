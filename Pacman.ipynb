{
 "cells": [
  {
   "cell_type": "code",
   "execution_count": 13,
   "metadata": {},
   "outputs": [],
   "source": [
    "import gym\n",
    "from PIL import Image\n",
    "import numpy as np\n",
    "\n",
    "\n",
    "from keras.models import Sequential\n",
    "from keras.layers import Dense, Convolution2D , Activation , Flatten , Permute\n",
    "\n",
    "from keras.optimizers import Adam\n",
    "\n",
    "from rl.agents.dqn import DQNAgent\n",
    "from rl.policy import LinearAnnealedPolicy , EpsGreedyQPolicy\n",
    "from rl.memory import SequentialMemory\n",
    "from rl.core import Processor\n",
    "\n",
    "INPUT_SHAPE = (84 , 84)\n",
    "WINDOW_LENGTH = 4"
   ]
  },
  {
   "cell_type": "code",
   "execution_count": 14,
   "metadata": {},
   "outputs": [],
   "source": [
    "class PacmanProcessor(Processor):\n",
    "    \n",
    "    def process_observation(self, observation):\n",
    "        assert observation.ndim == 3  # (height, width, channel)\n",
    "        img = Image.fromarray(observation)\n",
    "        img = img.resize(INPUT_SHAPE).convert('L')  # resize and convert to grayscale\n",
    "        processed_observation = np.array(img)\n",
    "        assert processed_observation.shape == INPUT_SHAPE\n",
    "        return processed_observation.astype('uint8')  # saves storage in experience memory\n",
    "\n",
    "    def process_state_batch(self, batch):\n",
    "        # We could perform this processing step in `process_observation`. In this case, however,\n",
    "        # we would need to store a `float32` array instead, which is 4x more memory intensive than\n",
    "        # an `uint8` array. This matters if we store 1M observations.\n",
    "        processed_batch = batch.astype('float32') / 255.\n",
    "        return processed_batch\n",
    "\n",
    "    def process_reward(self, reward):\n",
    "        return np.clip(reward, -1., 1.)   "
   ]
  },
  {
   "cell_type": "code",
   "execution_count": 15,
   "metadata": {},
   "outputs": [],
   "source": [
    "class Agent():\n",
    "    \n",
    "    def __init__(self , env):\n",
    "        self.env = env\n",
    "        self.nb_actions = self.env.action_space.n\n",
    "        \n",
    "        \n",
    "        #print(self.model.weights)\n",
    "        \n",
    "    def create_model(self):\n",
    "        \n",
    "        input_shape = (WINDOW_LENGTH,) + INPUT_SHAPE\n",
    "        \n",
    "        model = Sequential()\n",
    "        \n",
    "        model.add(Permute((3, 2, 1), input_shape=input_shape))\n",
    "        \n",
    "        model.add(Convolution2D(32 , (8,8) , strides = (4,4)))\n",
    "        model.add(Activation('relu')) \n",
    "        model.add(Convolution2D(64 , (4,4) , strides = (2,2)))\n",
    "        model.add(Activation('relu'))\n",
    "        model.add(Convolution2D(64 , (3,3) , strides = (1,1)))\n",
    "        model.add(Activation('relu'))\n",
    "        model.add(Flatten())\n",
    "        model.add(Dense(512))\n",
    "        model.add(Activation('relu'))\n",
    "        model.add(Dense(self.nb_actions))\n",
    "        model.add(Activation('linear'))\n",
    "        \n",
    "        return model"
   ]
  },
  {
   "cell_type": "code",
   "execution_count": 16,
   "metadata": {},
   "outputs": [
    {
     "name": "stdout",
     "output_type": "stream",
     "text": [
      "(None, 9)\n"
     ]
    }
   ],
   "source": [
    "env = gym.make('MsPacman-v0')\n",
    "bot = Agent(env = env)\n",
    "cov_model = bot.create_model()\n",
    "cov_model.compile(Adam(lr = 0.001) , metrics = ['accuracy'] , loss = 'mse')\n",
    "print(cov_model.output.shape)"
   ]
  },
  {
   "cell_type": "code",
   "execution_count": 17,
   "metadata": {},
   "outputs": [],
   "source": [
    "memory = SequentialMemory(limit = 10000 , window_length = WINDOW_LENGTH)\n",
    "policy = LinearAnnealedPolicy(EpsGreedyQPolicy() , \n",
    "                                  attr = 'eps',\n",
    "                                  value_max = 1.,\n",
    "                                  value_min = .1,\n",
    "                                  value_test = .05,\n",
    "                                  nb_steps = 5000)"
   ]
  },
  {
   "cell_type": "code",
   "execution_count": 18,
   "metadata": {},
   "outputs": [
    {
     "name": "stdout",
     "output_type": "stream",
     "text": [
      "9\n"
     ]
    }
   ],
   "source": [
    "print(bot.nb_actions)\n",
    "processor = PacmanProcessor()\n",
    "\n",
    "dqn = DQNAgent(model=cov_model , \n",
    "               memory = memory , \n",
    "               nb_actions = bot.nb_actions , \n",
    "               policy = policy,\n",
    "               processor = processor)\n",
    "\n",
    "dqn.compile(Adam(lr=.00025), metrics=['mae'])"
   ]
  },
  {
   "cell_type": "code",
   "execution_count": 19,
   "metadata": {},
   "outputs": [
    {
     "data": {
      "text/plain": [
       "<rl.agents.dqn.DQNAgent at 0x62a3f5710>"
      ]
     },
     "execution_count": 19,
     "metadata": {},
     "output_type": "execute_result"
    }
   ],
   "source": [
    "dqn"
   ]
  },
  {
   "cell_type": "code",
   "execution_count": 20,
   "metadata": {},
   "outputs": [
    {
     "name": "stdout",
     "output_type": "stream",
     "text": [
      "Training for 50000 steps ...\n",
      "Interval 1 (0 steps performed)\n",
      "10000/10000 [==============================] - 795s 79ms/step - reward: 0.0457\n",
      "13 episodes - episode_reward: 34.538 [15.000, 71.000] - loss: 0.008 - mae: 0.049 - mean_q: 0.127 - mean_eps: 0.260 - ale.lives: 2.022\n",
      "\n",
      "Interval 2 (10000 steps performed)\n",
      "10000/10000 [==============================] - 890s 89ms/step - reward: 0.0513\n",
      "11 episodes - episode_reward: 45.182 [19.000, 78.000] - loss: 0.008 - mae: 0.078 - mean_q: 0.187 - mean_eps: 0.100 - ale.lives: 2.024\n",
      "\n",
      "Interval 3 (20000 steps performed)\n",
      "10000/10000 [==============================] - 904s 90ms/step - reward: 0.0534\n",
      "12 episodes - episode_reward: 43.083 [29.000, 62.000] - loss: 0.007 - mae: 0.099 - mean_q: 0.230 - mean_eps: 0.100 - ale.lives: 2.102\n",
      "\n",
      "Interval 4 (30000 steps performed)\n",
      "10000/10000 [==============================] - 876s 88ms/step - reward: 0.0540\n",
      "12 episodes - episode_reward: 46.417 [27.000, 71.000] - loss: 0.006 - mae: 0.123 - mean_q: 0.266 - mean_eps: 0.100 - ale.lives: 1.991\n",
      "\n",
      "Interval 5 (40000 steps performed)\n",
      "10000/10000 [==============================] - 887s 89ms/step - reward: 0.0478\n",
      "done, took 4351.239 seconds\n"
     ]
    },
    {
     "data": {
      "text/plain": [
       "<keras.callbacks.callbacks.History at 0x62c15b240>"
      ]
     },
     "execution_count": 20,
     "metadata": {},
     "output_type": "execute_result"
    }
   ],
   "source": [
    "dqn.fit(env,nb_steps=50000)"
   ]
  },
  {
   "cell_type": "code",
   "execution_count": 21,
   "metadata": {},
   "outputs": [
    {
     "name": "stdout",
     "output_type": "stream",
     "text": [
      "Testing for 10 episodes ...\n",
      "Episode 1: reward: 34.000, steps: 671\n",
      "Episode 2: reward: 42.000, steps: 1048\n",
      "Episode 3: reward: 39.000, steps: 1020\n",
      "Episode 4: reward: 42.000, steps: 956\n",
      "Episode 5: reward: 63.000, steps: 1126\n",
      "Episode 6: reward: 34.000, steps: 530\n",
      "Episode 7: reward: 34.000, steps: 713\n",
      "Episode 8: reward: 45.000, steps: 889\n",
      "Episode 9: reward: 35.000, steps: 615\n",
      "Episode 10: reward: 21.000, steps: 583\n"
     ]
    },
    {
     "data": {
      "text/plain": [
       "<keras.callbacks.callbacks.History at 0x62b4fb9e8>"
      ]
     },
     "execution_count": 21,
     "metadata": {},
     "output_type": "execute_result"
    }
   ],
   "source": [
    "dqn.test(env , nb_episodes = 10)"
   ]
  },
  {
   "cell_type": "code",
   "execution_count": null,
   "metadata": {},
   "outputs": [],
   "source": [
    "dqn.save_weights()"
   ]
  }
 ],
 "metadata": {
  "kernelspec": {
   "display_name": "Python 3",
   "language": "python",
   "name": "python3"
  },
  "language_info": {
   "codemirror_mode": {
    "name": "ipython",
    "version": 3
   },
   "file_extension": ".py",
   "mimetype": "text/x-python",
   "name": "python",
   "nbconvert_exporter": "python",
   "pygments_lexer": "ipython3",
   "version": "3.7.3"
  }
 },
 "nbformat": 4,
 "nbformat_minor": 2
}
